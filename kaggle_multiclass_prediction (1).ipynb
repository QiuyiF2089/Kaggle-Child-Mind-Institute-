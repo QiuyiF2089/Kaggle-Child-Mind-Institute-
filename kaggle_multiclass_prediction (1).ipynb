{
 "cells": [
  {
   "cell_type": "code",
   "execution_count": 55,
   "metadata": {
    "id": "nUCQjgPjqikg"
   },
   "outputs": [],
   "source": [
    "import pandas as pd"
   ]
  },
  {
   "cell_type": "code",
   "execution_count": 56,
   "metadata": {
    "colab": {
     "base_uri": "https://localhost:8080/"
    },
    "id": "T6lXo8IwoJPY",
    "outputId": "6ab50ee8-eff8-4f49-e2f0-12561dbf8d12"
   },
   "outputs": [],
   "source": [
    "# from google.colab import drive\n",
    "# drive.mount('/content/drive')"
   ]
  },
  {
   "cell_type": "code",
   "execution_count": 57,
   "metadata": {
    "colab": {
     "base_uri": "https://localhost:8080/",
     "height": 35
    },
    "collapsed": true,
    "id": "pSPdR3sGor-M",
    "outputId": "de104e50-4847-41e1-9e10-9472edd5139f"
   },
   "outputs": [
    {
     "data": {
      "text/plain": [
       "\"import os\\nos.listdir('/content/drive/My Drive/')\""
      ]
     },
     "execution_count": 57,
     "metadata": {},
     "output_type": "execute_result"
    }
   ],
   "source": [
    "'''import os\n",
    "os.listdir('/content/drive/My Drive/')'''"
   ]
  },
  {
   "cell_type": "markdown",
   "metadata": {
    "id": "P69scHXhqTrt"
   },
   "source": [
    "data problem\n",
    "1. read csv directly\n",
    "2. combine data"
   ]
  },
  {
   "cell_type": "code",
   "execution_count": 58,
   "metadata": {
    "id": "NlV4_Oi6qRLF"
   },
   "outputs": [],
   "source": [
    "df_train_csv = pd.read_csv('train.csv')\n",
    "df_test_csv = pd.read_csv('test.csv')"
   ]
  },
  {
   "cell_type": "code",
   "execution_count": 59,
   "metadata": {
    "id": "XdBBwvOQNBwL"
   },
   "outputs": [
    {
     "data": {
      "text/plain": [
       "0       2.0\n",
       "1       0.0\n",
       "2       0.0\n",
       "3       1.0\n",
       "4       NaN\n",
       "       ... \n",
       "3955    1.0\n",
       "3956    NaN\n",
       "3957    1.0\n",
       "3958    0.0\n",
       "3959    NaN\n",
       "Name: sii, Length: 3960, dtype: float64"
      ]
     },
     "execution_count": 59,
     "metadata": {},
     "output_type": "execute_result"
    }
   ],
   "source": [
    "df_train_csv['sii']\n",
    "# df_test_csv.head()"
   ]
  },
  {
   "cell_type": "code",
   "execution_count": 60,
   "metadata": {
    "id": "AFrqh_QETqo-"
   },
   "outputs": [],
   "source": [
    "df_train_csv_filter = df_train_csv[df_train_csv['sii'].notna()]"
   ]
  },
  {
   "cell_type": "code",
   "execution_count": 61,
   "metadata": {},
   "outputs": [
    {
     "data": {
      "text/plain": [
       "0       2.0\n",
       "1       0.0\n",
       "2       0.0\n",
       "3       1.0\n",
       "5       1.0\n",
       "       ... \n",
       "3953    0.0\n",
       "3954    1.0\n",
       "3955    1.0\n",
       "3957    1.0\n",
       "3958    0.0\n",
       "Name: sii, Length: 2736, dtype: float64"
      ]
     },
     "execution_count": 61,
     "metadata": {},
     "output_type": "execute_result"
    }
   ],
   "source": [
    "df_train_csv_filter['sii']"
   ]
  },
  {
   "cell_type": "code",
   "execution_count": 62,
   "metadata": {
    "id": "PKZSIq2BYlB7"
   },
   "outputs": [],
   "source": [
    "# Make sure features are same at train dataset and test dataset\n",
    "# common_columns = list(set(df_train_csv_filter.columns) & set(df_test_csv.columns))\n",
    "\n",
    "# df_train_csv_filter = df_train_csv_filter[sorted(common_columns)]\n",
    "# df_test_csv = df_test_csv[sorted(common_columns)]"
   ]
  },
  {
   "cell_type": "markdown",
   "metadata": {
    "id": "MIJnxMu7Lu5t"
   },
   "source": [
    "# All versions\n",
    "1. all features\n",
    "2. all features + area weight\n",
    "3. all features + multicolinear(VIF)\n",
    "4. all features + multicolinear(VIF) + area weight\n",
    "5. all features + dimension reduce(PCA)\n",
    "6. all features + dimension reduce(PCA) + area weight\n",
    "7. all features + multicolinear(VIF) + dimension reduce(PCA)\n",
    "8. all features + multicolinear(VIF) + dimension reduce(PCA) + area weight\n"
   ]
  },
  {
   "cell_type": "markdown",
   "metadata": {
    "id": "sFOf1GMQ9T_p"
   },
   "source": [
    "# All Features\n",
    "1. feature aggregation ->\n",
    "  1. BMI, height, weight -> use Physical-BMI directly; delete height, weight columns\n",
    "  2. convert time(mins)\n",
    "2. season data -> whether need to delete[if not, categorical -> numberical]\n",
    "  [default:delete directly]\n",
    "3. missing value[if model can deal with missing value, do not deal with; if not, using mean to impute]\n",
    "  1. prioritize with model can deal with missing values internally"
   ]
  },
  {
   "cell_type": "code",
   "execution_count": null,
   "metadata": {},
   "outputs": [],
   "source": []
  },
  {
   "cell_type": "code",
   "execution_count": 63,
   "metadata": {
    "id": "3ioCT7mzeGft"
   },
   "outputs": [],
   "source": [
    "# train\n",
    "\n",
    "# feature aggregation -- BMI, height, weight\n",
    "df_train_csv_filter = df_train_csv_filter.drop(columns=['BIA-BIA_BMI', 'Physical-Weight', 'Physical-Height'])\n",
    "\n",
    "# convert time (mins)\n",
    "df_train_csv_filter['Fitness_Endurance-Time'] = df_train_csv_filter['Fitness_Endurance-Time_Mins'] + df_train_csv_filter['Fitness_Endurance-Time_Sec']/60\n",
    "df_train_csv_filter = df_train_csv_filter.drop(columns=['Fitness_Endurance-Time_Mins', 'Fitness_Endurance-Time_Sec'])\n",
    "\n",
    "# default --- delete all season columns\n",
    "season_columns = [col for col in df_train_csv_filter.columns if \"Season\" in col]\n",
    "df_train_csv_filter = df_train_csv_filter.drop(columns=season_columns)\n"
   ]
  },
  {
   "cell_type": "code",
   "execution_count": 64,
   "metadata": {
    "id": "T6xT_COveleU"
   },
   "outputs": [],
   "source": [
    "# test\n",
    "\n",
    "# feature aggregation -- BMI, height, weight\n",
    "df_test_csv = df_test_csv.drop(columns=['BIA-BIA_BMI', 'Physical-Weight', 'Physical-Height'])\n",
    "\n",
    "# convert time (mins)\n",
    "df_test_csv['Fitness_Endurance-Time'] = df_test_csv['Fitness_Endurance-Time_Mins'] + df_test_csv['Fitness_Endurance-Time_Sec']/60\n",
    "df_test_csv = df_test_csv.drop(columns=['Fitness_Endurance-Time_Mins', 'Fitness_Endurance-Time_Sec'])\n",
    "\n",
    "# default --- delete all season columns\n",
    "season_columns = [col for col in df_test_csv.columns if \"Season\" in col]\n",
    "df_test_csv = df_test_csv.drop(columns=season_columns)"
   ]
  },
  {
   "cell_type": "code",
   "execution_count": 65,
   "metadata": {
    "collapsed": true,
    "id": "EHxdBFuGesnM"
   },
   "outputs": [],
   "source": [
    "train_features=pd.read_csv('train_features.csv')\n",
    "trian_stat=pd.read_csv('train_stat.csv')\n",
    "train_time_series=pd.read_csv('train_time_series_features.csv')\n",
    "test_features=pd.read_csv('test_features.csv')\n",
    "test_stat=pd.read_csv('test_stat.csv')\n",
    "test_time_series=pd.read_csv('test_time_series_features.csv')"
   ]
  },
  {
   "cell_type": "code",
   "execution_count": 66,
   "metadata": {},
   "outputs": [],
   "source": [
    "df_train_raw_features=df_train_csv_filter.merge(train_features,on='id')\n",
    "df_train_raw_stat=df_train_csv_filter.merge(trian_stat,on='id')\n",
    "df_train_raw_time_series=df_train_csv_filter.merge(train_time_series,on='id')\n",
    "df_test_raw_features=df_test_csv.merge(test_features,on='id')\n",
    "df_test_raw_stat=df_test_csv.merge(test_stat,on='id')\n",
    "df_test_raw_time_series=df_test_csv.merge(test_time_series,on='id')"
   ]
  },
  {
   "cell_type": "code",
   "execution_count": 67,
   "metadata": {
    "id": "Ra1g79q4esdF"
   },
   "outputs": [],
   "source": [
    "df_train_raw_features.to_csv('df_train_raw_features.csv')\n",
    "df_train_raw_stat.to_csv('df_train_raw_stat.csv')\n",
    "df_train_raw_time_series.to_csv('df_train_raw_time_series.csv')\n",
    "df_test_raw_features.to_csv('df_test_raw_features.csv')\n",
    "df_test_raw_stat.to_csv('df_test_raw_stat.csv')\n",
    "df_test_raw_time_series.to_csv('df_test_raw_time_series.csv')"
   ]
  },
  {
   "cell_type": "code",
   "execution_count": 68,
   "metadata": {
    "colab": {
     "base_uri": "https://localhost:8080/",
     "height": 71
    },
    "collapsed": true,
    "id": "GsNMth3bCvMN",
    "outputId": "29031a12-0323-4caf-e69f-5b61113df476"
   },
   "outputs": [
    {
     "data": {
      "text/plain": [
       "'\\n# not delete season data, categorical -> numberical\\nseason_mapping = {\"Spring\": 1, \"Summer\": 2, \"Fall\": 3, \"Winter\": 4, \"NaN\": 5}\\n\\nseason_columns = [col for col in df_train_csv_filter.columns if \"Season\" in col]\\n\\nfor col in season_columns:\\n    df_train_csv_filter.loc[:, col] = df_train_csv_filter[col].map(\\n        lambda x: 5 if pd.isna(x) else season_mapping.get(x, x)\\n    )\\ndf_train_csv_filter\\n'"
      ]
     },
     "execution_count": 68,
     "metadata": {},
     "output_type": "execute_result"
    }
   ],
   "source": [
    "'''\n",
    "# not delete season data, categorical -> numberical\n",
    "season_mapping = {\"Spring\": 1, \"Summer\": 2, \"Fall\": 3, \"Winter\": 4, \"NaN\": 5}\n",
    "\n",
    "season_columns = [col for col in df_train_csv_filter.columns if \"Season\" in col]\n",
    "\n",
    "for col in season_columns:\n",
    "    df_train_csv_filter.loc[:, col] = df_train_csv_filter[col].map(\n",
    "        lambda x: 5 if pd.isna(x) else season_mapping.get(x, x)\n",
    "    )\n",
    "df_train_csv_filter\n",
    "'''"
   ]
  },
  {
   "cell_type": "markdown",
   "metadata": {
    "id": "yLWws4SFQYTI"
   },
   "source": [
    "# Multicolinear(VIF)"
   ]
  },
  {
   "cell_type": "code",
   "execution_count": 69,
   "metadata": {
    "colab": {
     "base_uri": "https://localhost:8080/",
     "height": 365
    },
    "collapsed": true,
    "id": "YRJmuD049GU_",
    "outputId": "e0d74e8d-7ade-4fde-bf19-ae08ce9d876f"
   },
   "outputs": [
    {
     "ename": "NameError",
     "evalue": "name 'X' is not defined",
     "output_type": "error",
     "traceback": [
      "\u001b[0;31m---------------------------------------------------------------------------\u001b[0m",
      "\u001b[0;31mNameError\u001b[0m                                 Traceback (most recent call last)",
      "Cell \u001b[0;32mIn[69], line 7\u001b[0m\n\u001b[1;32m      4\u001b[0m \u001b[38;5;66;03m# X = df_train_csv_filter.drop(columns=['sii']).dropna()\u001b[39;00m\n\u001b[1;32m      6\u001b[0m scaler \u001b[38;5;241m=\u001b[39m StandardScaler()\n\u001b[0;32m----> 7\u001b[0m X_scaled \u001b[38;5;241m=\u001b[39m scaler\u001b[38;5;241m.\u001b[39mfit_transform(\u001b[43mX\u001b[49m)\n\u001b[1;32m      9\u001b[0m vif_data \u001b[38;5;241m=\u001b[39m pd\u001b[38;5;241m.\u001b[39mDataFrame()\n\u001b[1;32m     10\u001b[0m vif_data[\u001b[38;5;124m'\u001b[39m\u001b[38;5;124mFeature\u001b[39m\u001b[38;5;124m'\u001b[39m] \u001b[38;5;241m=\u001b[39m X\u001b[38;5;241m.\u001b[39mcolumns\n",
      "\u001b[0;31mNameError\u001b[0m: name 'X' is not defined"
     ]
    }
   ],
   "source": [
    "from statsmodels.stats.outliers_influence import variance_inflation_factor\n",
    "from sklearn.preprocessing import StandardScaler\n",
    "\n",
    "# X = df_train_csv_filter.drop(columns=['sii']).dropna()\n",
    "\n",
    "scaler = StandardScaler()\n",
    "X_scaled = scaler.fit_transform(X)\n",
    "\n",
    "vif_data = pd.DataFrame()\n",
    "vif_data['Feature'] = X.columns\n",
    "vif_data['VIF'] = [variance_inflation_factor(X_scaled, i) for i in range(X_scaled.shape[1])]\n",
    "\n",
    "print(vif_data)"
   ]
  },
  {
   "cell_type": "markdown",
   "metadata": {
    "id": "VsgejiURQmJ6"
   },
   "source": [
    "# Dimension Reduce(PCA)"
   ]
  },
  {
   "cell_type": "code",
   "execution_count": null,
   "metadata": {
    "id": "T3y7VsDmQp4I"
   },
   "outputs": [],
   "source": [
    "from sklearn.decomposition import PCA\n",
    "from sklearn.preprocessing import StandardScaler\n",
    "\n",
    "X = df_train_csv_filter.drop(columns=['sii']).dropna()\n",
    "y = df_train_csv_filter['sii']\n",
    "\n",
    "scaler = StandardScaler()\n",
    "X_scaled = scaler.fit_transform(X)\n",
    "\n",
    "pca = PCA(n_components=0.95)  # Retain 95% of the variance\n",
    "X_pca = pca.fit_transform(X_scaled)\n",
    "\n",
    "explained_variance = pca.explained_variance_ratio_\n",
    "print(f\"Explained variance by each component: {explained_variance}\")\n",
    "print(f\"Total number of components selected: {pca.n_components_}\")\n",
    "\n",
    "X_pca_df = pd.DataFrame(X_pca, columns=[f'PC{i+1}' for i in range(X_pca.shape[1])])\n",
    "X_pca_df['sii'] = y.reset_index(drop=True)\n",
    "\n",
    "print(X_pca_df.head())"
   ]
  }
 ],
 "metadata": {
  "colab": {
   "provenance": []
  },
  "kernelspec": {
   "display_name": "deeplearning",
   "language": "python",
   "name": "python3"
  },
  "language_info": {
   "codemirror_mode": {
    "name": "ipython",
    "version": 3
   },
   "file_extension": ".py",
   "mimetype": "text/x-python",
   "name": "python",
   "nbconvert_exporter": "python",
   "pygments_lexer": "ipython3",
   "version": "3.11.9"
  }
 },
 "nbformat": 4,
 "nbformat_minor": 0
}
